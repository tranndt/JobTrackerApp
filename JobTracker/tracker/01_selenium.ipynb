{
 "cells": [
  {
   "cell_type": "code",
   "execution_count": 1,
   "metadata": {},
   "outputs": [
    {
     "name": "stdout",
     "output_type": "stream",
     "text": [
      "<div class=\"urLoadA\"><div class=\"lsLoadAItem lsLoadAItem1Display lsLoadAItem1Delay\"></div><div class=\"lsLoadAItem lsLoadAItem2Display lsLoadAItem2Delay lsLoadImg\"></div><div class=\"lsLoadAItem lsLoadAItem3Display\"></div></div>\n"
     ]
    }
   ],
   "source": [
    "from selenium import webdriver\n",
    "from selenium.webdriver.edge.service import Service\n",
    "from selenium.webdriver.common.by import By\n",
    "from selenium.webdriver.edge.options import Options\n",
    "from bs4 import BeautifulSoup\n",
    "import time\n",
    "\n",
    "# Step 1: Install Selenium\n",
    "# pip install selenium\n",
    "\n",
    "# Step 2: Set Up WebDriver\n",
    "edge_options = Options()\n",
    "edge_options.add_argument(\"--disable-popup-blocking\")  # Enable popups\n",
    "\n",
    "# Provide the path to your EdgeDriver\n",
    "service = Service('/usr/local/bin/msedgedriver')\n",
    "\n",
    "driver = webdriver.Edge(service=service, options=edge_options)\n",
    "\n",
    "# Step 3: Navigate to the Page\n",
    "url = \"https://careers.hydro.mb.ca/sap/bc/webdynpro/sap/hrrcf_a_unreg_job_search#\"\n",
    "driver.get(url)  # Replace with your target URL\n",
    "\n",
    "# Step 4: Handle Popups (if any)\n",
    "# Example: Accepting an alert popup\n",
    "try:\n",
    "    alert = driver.switch_to.alert\n",
    "    alert.accept()\n",
    "except:\n",
    "    pass\n",
    "\n",
    "# Wait for the page to load completely\n",
    "time.sleep(5)\n",
    "\n",
    "# Step 5: Extract Content\n",
    "html_content = driver.page_source\n",
    "soup = BeautifulSoup(html_content, 'html.parser')\n",
    "\n",
    "# Example: Extracting specific content\n",
    "div_content = soup.find('div', class_='urLoadA')\n",
    "print(div_content)\n",
    "\n",
    "# Close the browser\n",
    "driver.quit()"
   ]
  },
  {
   "cell_type": "code",
   "execution_count": 1,
   "metadata": {},
   "outputs": [
    {
     "ename": "TypeError",
     "evalue": "fetch_html_webdriver() takes 1 positional argument but 2 were given",
     "output_type": "error",
     "traceback": [
      "\u001b[0;31m---------------------------------------------------------------------------\u001b[0m",
      "\u001b[0;31mTypeError\u001b[0m                                 Traceback (most recent call last)",
      "Cell \u001b[0;32mIn[1], line 48\u001b[0m\n\u001b[1;32m     46\u001b[0m url \u001b[38;5;241m=\u001b[39m \u001b[38;5;124m\"\u001b[39m\u001b[38;5;124mhttps://careers.hydro.mb.ca/sap/bc/webdynpro/sap/hrrcf_a_unreg_job_search#\u001b[39m\u001b[38;5;124m\"\u001b[39m\n\u001b[1;32m     47\u001b[0m driver_path \u001b[38;5;241m=\u001b[39m \u001b[38;5;124m\"\u001b[39m\u001b[38;5;124m/path/to/msedgedriver\u001b[39m\u001b[38;5;124m\"\u001b[39m  \u001b[38;5;66;03m# Replace with the actual path to your EdgeDriver\u001b[39;00m\n\u001b[0;32m---> 48\u001b[0m html_str \u001b[38;5;241m=\u001b[39m \u001b[43mfetch_html_webdriver\u001b[49m\u001b[43m(\u001b[49m\u001b[43murl\u001b[49m\u001b[43m,\u001b[49m\u001b[43m \u001b[49m\u001b[43mdriver_path\u001b[49m\u001b[43m)\u001b[49m\n\u001b[1;32m     49\u001b[0m \u001b[38;5;28mprint\u001b[39m(html_str)\n",
      "\u001b[0;31mTypeError\u001b[0m: fetch_html_webdriver() takes 1 positional argument but 2 were given"
     ]
    }
   ],
   "source": [
    "from selenium import webdriver\n",
    "from selenium.webdriver.edge.service import Service\n",
    "from selenium.webdriver.common.by import By\n",
    "from selenium.webdriver.edge.options import Options\n",
    "from bs4 import BeautifulSoup\n",
    "import time\n",
    "\n",
    "def fetch_html_webdriver(url):\n",
    "    \"\"\"\n",
    "    Scrapes the given URL using Edge WebDriver and returns the HTML content as a string.\n",
    "\n",
    "    :param url: The URL of the page to scrape.\n",
    "    :return: The HTML content of the page as a string.\n",
    "    \"\"\"\n",
    "    # Set Up WebDriver\n",
    "    edge_options = Options()\n",
    "    edge_options.add_argument(\"--disable-popup-blocking\")  # Enable popups\n",
    "\n",
    "    # Initialize EdgeDriver\n",
    "    driver_path = '/usr/local/bin/msedgedriver'\n",
    "    service = Service(driver_path)\n",
    "    driver = webdriver.Edge(service=service, options=edge_options)\n",
    "\n",
    "    try:\n",
    "        # Navigate to the Page\n",
    "        driver.get(url)\n",
    "\n",
    "        # Handle Popups (if any)\n",
    "        try:\n",
    "            alert = driver.switch_to.alert\n",
    "            alert.accept()\n",
    "        except:\n",
    "            pass\n",
    "\n",
    "        # Wait for the page to load completely\n",
    "        time.sleep(5)\n",
    "\n",
    "        # Extract Content\n",
    "        html_content = driver.page_source\n",
    "        return html_content\n",
    "    finally:\n",
    "        # Close the browser\n",
    "        driver.quit()\n",
    "\n",
    "# Example usage\n",
    "url = \"https://careers.hydro.mb.ca/sap/bc/webdynpro/sap/hrrcf_a_unreg_job_search#\"\n",
    "driver_path = \"/path/to/msedgedriver\"  # Replace with the actual path to your EdgeDriver\n",
    "html_str = fetch_html_webdriver(url, driver_path)\n",
    "print(html_str)"
   ]
  }
 ],
 "metadata": {
  "kernelspec": {
   "display_name": ".venv",
   "language": "python",
   "name": "python3"
  },
  "language_info": {
   "codemirror_mode": {
    "name": "ipython",
    "version": 3
   },
   "file_extension": ".py",
   "mimetype": "text/x-python",
   "name": "python",
   "nbconvert_exporter": "python",
   "pygments_lexer": "ipython3",
   "version": "3.8.10"
  }
 },
 "nbformat": 4,
 "nbformat_minor": 2
}
